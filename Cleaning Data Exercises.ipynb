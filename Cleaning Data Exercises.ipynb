{
 "cells": [
  {
   "cell_type": "markdown",
   "id": "1c5ab710",
   "metadata": {},
   "source": [
    "# Cleaning Data Exercises\n",
    "\n",
    "For the exercises, you will be cleaning data in your chosen data set. [Towards Data Science](https://towardsdatascience.com/data-cleaning-in-python-the-ultimate-guide-2020-c63b88bf0a0d) outlines the steps we should take to clean data using a different data set from Kaggle. While you should use this article as a reference, make sure not to copy paste as the two data sets are very different!\n",
    "\n",
    "To start cleaning data, we first need to create a dataframe from the CSV and print out any relevant info to make sure our dataframe is ready to go."
   ]
  },
  {
   "cell_type": "code",
   "execution_count": 1,
   "id": "da3513e0",
   "metadata": {},
   "outputs": [],
   "source": [
    "# Import pandas and any other libraries you need here. HINT: Check out the article to see what they imported to get started!\n",
    "import pandas as pd\n",
    "import matplotlib.pyplot as plt\n",
    "import seaborn as sns\n",
    "import numpy as np\n",
    "import matplotlib.mlab as mlab\n",
    "import matplotlib\n",
    "\n",
    "# Create a new dataframe from your CSV\n",
    "df = pd.read_csv(\"Rat_Sightings.csv\")\n"
   ]
  },
  {
   "cell_type": "code",
   "execution_count": 2,
   "id": "045387eb",
   "metadata": {},
   "outputs": [
    {
     "name": "stdout",
     "output_type": "stream",
     "text": [
      "<class 'pandas.core.frame.DataFrame'>\n",
      "RangeIndex: 101914 entries, 0 to 101913\n",
      "Data columns (total 52 columns):\n",
      " #   Column                          Non-Null Count   Dtype  \n",
      "---  ------                          --------------   -----  \n",
      " 0   Unique Key                      101914 non-null  int64  \n",
      " 1   Created Date                    101914 non-null  object \n",
      " 2   Closed Date                     90983 non-null   object \n",
      " 3   Agency                          101914 non-null  object \n",
      " 4   Agency Name                     101914 non-null  object \n",
      " 5   Complaint Type                  101914 non-null  object \n",
      " 6   Descriptor                      101914 non-null  object \n",
      " 7   Location Type                   101908 non-null  object \n",
      " 8   Incident Zip                    101578 non-null  float64\n",
      " 9   Incident Address                92840 non-null   object \n",
      " 10  Street Name                     92839 non-null   object \n",
      " 11  Cross Street 1                  85257 non-null   object \n",
      " 12  Cross Street 2                  85224 non-null   object \n",
      " 13  Intersection Street 1           8925 non-null    object \n",
      " 14  Intersection Street 2           8925 non-null    object \n",
      " 15  Address Type                    101568 non-null  object \n",
      " 16  City                            101572 non-null  object \n",
      " 17  Landmark                        35 non-null      object \n",
      " 18  Facility Type                   0 non-null       float64\n",
      " 19  Status                          101914 non-null  object \n",
      " 20  Due Date                        101797 non-null  object \n",
      " 21  Resolution Action Updated Date  101911 non-null  object \n",
      " 22  Community Board                 101914 non-null  object \n",
      " 23  Borough                         101914 non-null  object \n",
      " 24  X Coordinate (State Plane)      101208 non-null  float64\n",
      " 25  Y Coordinate (State Plane)      101208 non-null  float64\n",
      " 26  Park Facility Name              101914 non-null  object \n",
      " 27  Park Borough                    101914 non-null  object \n",
      " 28  School Name                     101914 non-null  object \n",
      " 29  School Number                   101914 non-null  object \n",
      " 30  School Region                   101914 non-null  object \n",
      " 31  School Code                     101914 non-null  object \n",
      " 32  School Phone Number             101914 non-null  object \n",
      " 33  School Address                  101914 non-null  object \n",
      " 34  School City                     101914 non-null  object \n",
      " 35  School State                    101914 non-null  object \n",
      " 36  School Zip                      101914 non-null  object \n",
      " 37  School Not Found                100997 non-null  object \n",
      " 38  School or Citywide Complaint    0 non-null       float64\n",
      " 39  Vehicle Type                    0 non-null       float64\n",
      " 40  Taxi Company Borough            0 non-null       float64\n",
      " 41  Taxi Pick Up Location           0 non-null       float64\n",
      " 42  Bridge Highway Name             0 non-null       float64\n",
      " 43  Bridge Highway Direction        0 non-null       float64\n",
      " 44  Road Ramp                       0 non-null       float64\n",
      " 45  Bridge Highway Segment          0 non-null       float64\n",
      " 46  Garage Lot Name                 0 non-null       float64\n",
      " 47  Ferry Direction                 0 non-null       float64\n",
      " 48  Ferry Terminal Name             0 non-null       float64\n",
      " 49  Latitude                        101208 non-null  float64\n",
      " 50  Longitude                       101208 non-null  float64\n",
      " 51  Location                        101208 non-null  object \n",
      "dtypes: float64(17), int64(1), object(34)\n",
      "memory usage: 40.4+ MB\n"
     ]
    },
    {
     "data": {
      "text/html": [
       "<div>\n",
       "<style scoped>\n",
       "    .dataframe tbody tr th:only-of-type {\n",
       "        vertical-align: middle;\n",
       "    }\n",
       "\n",
       "    .dataframe tbody tr th {\n",
       "        vertical-align: top;\n",
       "    }\n",
       "\n",
       "    .dataframe thead th {\n",
       "        text-align: right;\n",
       "    }\n",
       "</style>\n",
       "<table border=\"1\" class=\"dataframe\">\n",
       "  <thead>\n",
       "    <tr style=\"text-align: right;\">\n",
       "      <th></th>\n",
       "      <th>Unique Key</th>\n",
       "      <th>Created Date</th>\n",
       "      <th>Closed Date</th>\n",
       "      <th>Agency</th>\n",
       "      <th>Agency Name</th>\n",
       "      <th>Complaint Type</th>\n",
       "      <th>Descriptor</th>\n",
       "      <th>Location Type</th>\n",
       "      <th>Incident Zip</th>\n",
       "      <th>Incident Address</th>\n",
       "      <th>...</th>\n",
       "      <th>Bridge Highway Name</th>\n",
       "      <th>Bridge Highway Direction</th>\n",
       "      <th>Road Ramp</th>\n",
       "      <th>Bridge Highway Segment</th>\n",
       "      <th>Garage Lot Name</th>\n",
       "      <th>Ferry Direction</th>\n",
       "      <th>Ferry Terminal Name</th>\n",
       "      <th>Latitude</th>\n",
       "      <th>Longitude</th>\n",
       "      <th>Location</th>\n",
       "    </tr>\n",
       "  </thead>\n",
       "  <tbody>\n",
       "    <tr>\n",
       "      <th>0</th>\n",
       "      <td>31464015</td>\n",
       "      <td>09/04/2015 12:00:00 AM</td>\n",
       "      <td>09/18/2015 12:00:00 AM</td>\n",
       "      <td>DOHMH</td>\n",
       "      <td>Department of Health and Mental Hygiene</td>\n",
       "      <td>Rodent</td>\n",
       "      <td>Rat Sighting</td>\n",
       "      <td>3+ Family Mixed Use Building</td>\n",
       "      <td>10006.0</td>\n",
       "      <td>NaN</td>\n",
       "      <td>...</td>\n",
       "      <td>NaN</td>\n",
       "      <td>NaN</td>\n",
       "      <td>NaN</td>\n",
       "      <td>NaN</td>\n",
       "      <td>NaN</td>\n",
       "      <td>NaN</td>\n",
       "      <td>NaN</td>\n",
       "      <td>40.707772</td>\n",
       "      <td>-74.012963</td>\n",
       "      <td>(40.70777155363643, -74.01296309970473)</td>\n",
       "    </tr>\n",
       "    <tr>\n",
       "      <th>1</th>\n",
       "      <td>31464024</td>\n",
       "      <td>09/04/2015 12:00:00 AM</td>\n",
       "      <td>10/28/2015 12:00:00 AM</td>\n",
       "      <td>DOHMH</td>\n",
       "      <td>Department of Health and Mental Hygiene</td>\n",
       "      <td>Rodent</td>\n",
       "      <td>Rat Sighting</td>\n",
       "      <td>Commercial Building</td>\n",
       "      <td>10306.0</td>\n",
       "      <td>2270 HYLAN BOULEVARD</td>\n",
       "      <td>...</td>\n",
       "      <td>NaN</td>\n",
       "      <td>NaN</td>\n",
       "      <td>NaN</td>\n",
       "      <td>NaN</td>\n",
       "      <td>NaN</td>\n",
       "      <td>NaN</td>\n",
       "      <td>NaN</td>\n",
       "      <td>40.575209</td>\n",
       "      <td>-74.104547</td>\n",
       "      <td>(40.575209242947444, -74.1045465185469)</td>\n",
       "    </tr>\n",
       "    <tr>\n",
       "      <th>2</th>\n",
       "      <td>31464025</td>\n",
       "      <td>09/04/2015 12:00:00 AM</td>\n",
       "      <td>NaN</td>\n",
       "      <td>DOHMH</td>\n",
       "      <td>Department of Health and Mental Hygiene</td>\n",
       "      <td>Rodent</td>\n",
       "      <td>Rat Sighting</td>\n",
       "      <td>1-2 Family Dwelling</td>\n",
       "      <td>10310.0</td>\n",
       "      <td>758 POST AVENUE</td>\n",
       "      <td>...</td>\n",
       "      <td>NaN</td>\n",
       "      <td>NaN</td>\n",
       "      <td>NaN</td>\n",
       "      <td>NaN</td>\n",
       "      <td>NaN</td>\n",
       "      <td>NaN</td>\n",
       "      <td>NaN</td>\n",
       "      <td>40.631236</td>\n",
       "      <td>-74.126878</td>\n",
       "      <td>(40.63123555151668, -74.12687759748677)</td>\n",
       "    </tr>\n",
       "    <tr>\n",
       "      <th>3</th>\n",
       "      <td>31464026</td>\n",
       "      <td>09/04/2015 12:00:00 AM</td>\n",
       "      <td>09/14/2015 12:00:00 AM</td>\n",
       "      <td>DOHMH</td>\n",
       "      <td>Department of Health and Mental Hygiene</td>\n",
       "      <td>Rodent</td>\n",
       "      <td>Rat Sighting</td>\n",
       "      <td>3+ Family Apt. Building</td>\n",
       "      <td>11206.0</td>\n",
       "      <td>198 SCHOLES STREET</td>\n",
       "      <td>...</td>\n",
       "      <td>NaN</td>\n",
       "      <td>NaN</td>\n",
       "      <td>NaN</td>\n",
       "      <td>NaN</td>\n",
       "      <td>NaN</td>\n",
       "      <td>NaN</td>\n",
       "      <td>NaN</td>\n",
       "      <td>40.708987</td>\n",
       "      <td>-73.941207</td>\n",
       "      <td>(40.70898692345805, -73.94120690238431)</td>\n",
       "    </tr>\n",
       "    <tr>\n",
       "      <th>4</th>\n",
       "      <td>31464027</td>\n",
       "      <td>09/04/2015 12:00:00 AM</td>\n",
       "      <td>09/22/2015 12:00:00 AM</td>\n",
       "      <td>DOHMH</td>\n",
       "      <td>Department of Health and Mental Hygiene</td>\n",
       "      <td>Rodent</td>\n",
       "      <td>Rat Sighting</td>\n",
       "      <td>3+ Family Mixed Use Building</td>\n",
       "      <td>10462.0</td>\n",
       "      <td>2138 WALLACE AVENUE</td>\n",
       "      <td>...</td>\n",
       "      <td>NaN</td>\n",
       "      <td>NaN</td>\n",
       "      <td>NaN</td>\n",
       "      <td>NaN</td>\n",
       "      <td>NaN</td>\n",
       "      <td>NaN</td>\n",
       "      <td>NaN</td>\n",
       "      <td>40.854130</td>\n",
       "      <td>-73.864813</td>\n",
       "      <td>(40.85413014360452, -73.86481331044513)</td>\n",
       "    </tr>\n",
       "  </tbody>\n",
       "</table>\n",
       "<p>5 rows × 52 columns</p>\n",
       "</div>"
      ],
      "text/plain": [
       "   Unique Key            Created Date             Closed Date Agency  \\\n",
       "0    31464015  09/04/2015 12:00:00 AM  09/18/2015 12:00:00 AM  DOHMH   \n",
       "1    31464024  09/04/2015 12:00:00 AM  10/28/2015 12:00:00 AM  DOHMH   \n",
       "2    31464025  09/04/2015 12:00:00 AM                     NaN  DOHMH   \n",
       "3    31464026  09/04/2015 12:00:00 AM  09/14/2015 12:00:00 AM  DOHMH   \n",
       "4    31464027  09/04/2015 12:00:00 AM  09/22/2015 12:00:00 AM  DOHMH   \n",
       "\n",
       "                               Agency Name Complaint Type    Descriptor  \\\n",
       "0  Department of Health and Mental Hygiene         Rodent  Rat Sighting   \n",
       "1  Department of Health and Mental Hygiene         Rodent  Rat Sighting   \n",
       "2  Department of Health and Mental Hygiene         Rodent  Rat Sighting   \n",
       "3  Department of Health and Mental Hygiene         Rodent  Rat Sighting   \n",
       "4  Department of Health and Mental Hygiene         Rodent  Rat Sighting   \n",
       "\n",
       "                  Location Type  Incident Zip      Incident Address  ...  \\\n",
       "0  3+ Family Mixed Use Building       10006.0                   NaN  ...   \n",
       "1           Commercial Building       10306.0  2270 HYLAN BOULEVARD  ...   \n",
       "2           1-2 Family Dwelling       10310.0       758 POST AVENUE  ...   \n",
       "3       3+ Family Apt. Building       11206.0    198 SCHOLES STREET  ...   \n",
       "4  3+ Family Mixed Use Building       10462.0   2138 WALLACE AVENUE  ...   \n",
       "\n",
       "  Bridge Highway Name Bridge Highway Direction Road Ramp  \\\n",
       "0                 NaN                      NaN       NaN   \n",
       "1                 NaN                      NaN       NaN   \n",
       "2                 NaN                      NaN       NaN   \n",
       "3                 NaN                      NaN       NaN   \n",
       "4                 NaN                      NaN       NaN   \n",
       "\n",
       "  Bridge Highway Segment Garage Lot Name Ferry Direction Ferry Terminal Name  \\\n",
       "0                    NaN             NaN             NaN                 NaN   \n",
       "1                    NaN             NaN             NaN                 NaN   \n",
       "2                    NaN             NaN             NaN                 NaN   \n",
       "3                    NaN             NaN             NaN                 NaN   \n",
       "4                    NaN             NaN             NaN                 NaN   \n",
       "\n",
       "    Latitude  Longitude                                 Location  \n",
       "0  40.707772 -74.012963  (40.70777155363643, -74.01296309970473)  \n",
       "1  40.575209 -74.104547  (40.575209242947444, -74.1045465185469)  \n",
       "2  40.631236 -74.126878  (40.63123555151668, -74.12687759748677)  \n",
       "3  40.708987 -73.941207  (40.70898692345805, -73.94120690238431)  \n",
       "4  40.854130 -73.864813  (40.85413014360452, -73.86481331044513)  \n",
       "\n",
       "[5 rows x 52 columns]"
      ]
     },
     "execution_count": 2,
     "metadata": {},
     "output_type": "execute_result"
    }
   ],
   "source": [
    "# Print out any information you need to understand your dataframe\n",
    "\n",
    "df.info(verbose = True) #to get more information\n",
    "# pd.options.display.max_info_columns = 100\n",
    "df.head()"
   ]
  },
  {
   "cell_type": "code",
   "execution_count": 3,
   "id": "13b8c25c",
   "metadata": {},
   "outputs": [
    {
     "data": {
      "text/plain": [
       "Index(['Unique Key', 'Created Date', 'Closed Date', 'Agency', 'Agency Name',\n",
       "       'Complaint Type', 'Descriptor', 'Location Type', 'Incident Zip',\n",
       "       'Incident Address', 'Street Name', 'Cross Street 1', 'Cross Street 2',\n",
       "       'Intersection Street 1', 'Intersection Street 2', 'Address Type',\n",
       "       'City', 'Landmark', 'Facility Type', 'Status', 'Due Date',\n",
       "       'Resolution Action Updated Date', 'Community Board', 'Borough',\n",
       "       'X Coordinate (State Plane)', 'Y Coordinate (State Plane)',\n",
       "       'Park Facility Name', 'Park Borough', 'School Name', 'School Number',\n",
       "       'School Region', 'School Code', 'School Phone Number', 'School Address',\n",
       "       'School City', 'School State', 'School Zip', 'School Not Found',\n",
       "       'School or Citywide Complaint', 'Vehicle Type', 'Taxi Company Borough',\n",
       "       'Taxi Pick Up Location', 'Bridge Highway Name',\n",
       "       'Bridge Highway Direction', 'Road Ramp', 'Bridge Highway Segment',\n",
       "       'Garage Lot Name', 'Ferry Direction', 'Ferry Terminal Name', 'Latitude',\n",
       "       'Longitude', 'Location'],\n",
       "      dtype='object')"
      ]
     },
     "execution_count": 3,
     "metadata": {},
     "output_type": "execute_result"
    }
   ],
   "source": [
    "df.columns"
   ]
  },
  {
   "cell_type": "markdown",
   "id": "81717993",
   "metadata": {},
   "source": [
    "Now you have a dataframe set up, you are ready to dive in and start cleaning!"
   ]
  },
  {
   "cell_type": "markdown",
   "id": "303aee35",
   "metadata": {},
   "source": [
    "## Missing Data\n",
    "\n",
    "In the Towards Data Science article, they list 3 techniques for detecting any missing data frame. Try all three before deciding on a way to solve any missing data issues."
   ]
  },
  {
   "cell_type": "code",
   "execution_count": 4,
   "id": "68fd548c",
   "metadata": {},
   "outputs": [
    {
     "data": {
      "text/plain": [
       "<AxesSubplot:>"
      ]
     },
     "execution_count": 4,
     "metadata": {},
     "output_type": "execute_result"
    },
    {
     "data": {
      "image/png": "[encoded data removed]",
      "text/plain": [
       "<Figure size 640x480 with 2 Axes>"
      ]
     },
     "metadata": {},
     "output_type": "display_data"
    }
   ],
   "source": [
    "# Plot a heatmap of any missing data\n",
    "cols = df.columns\n",
    "colors = ['#000099', '#ffff00'] # yellow missing, blue not missing data\n",
    "sns.heatmap(df[cols].isna(), cmap=sns.color_palette(colors))"
   ]
  },
  {
   "cell_type": "code",
   "execution_count": 5,
   "id": "0ae37b5d",
   "metadata": {},
   "outputs": [
    {
     "data": {
      "text/plain": [
       "Unique Key                          0.000000\n",
       "Created Date                        0.000000\n",
       "Closed Date                        10.725710\n",
       "Agency                              0.000000\n",
       "Agency Name                         0.000000\n",
       "Complaint Type                      0.000000\n",
       "Descriptor                          0.000000\n",
       "Location Type                       0.005887\n",
       "Incident Zip                        0.329690\n",
       "Incident Address                    8.903585\n",
       "Street Name                         8.904567\n",
       "Cross Street 1                     16.344173\n",
       "Cross Street 2                     16.376553\n",
       "Intersection Street 1              91.242616\n",
       "Intersection Street 2              91.242616\n",
       "Address Type                        0.339502\n",
       "City                                0.335577\n",
       "Landmark                           99.965657\n",
       "Facility Type                     100.000000\n",
       "Status                              0.000000\n",
       "Due Date                            0.114803\n",
       "Resolution Action Updated Date      0.002944\n",
       "Community Board                     0.000000\n",
       "Borough                             0.000000\n",
       "X Coordinate (State Plane)          0.692741\n",
       "Y Coordinate (State Plane)          0.692741\n",
       "Park Facility Name                  0.000000\n",
       "Park Borough                        0.000000\n",
       "School Name                         0.000000\n",
       "School Number                       0.000000\n",
       "School Region                       0.000000\n",
       "School Code                         0.000000\n",
       "School Phone Number                 0.000000\n",
       "School Address                      0.000000\n",
       "School City                         0.000000\n",
       "School State                        0.000000\n",
       "School Zip                          0.000000\n",
       "School Not Found                    0.899778\n",
       "School or Citywide Complaint      100.000000\n",
       "Vehicle Type                      100.000000\n",
       "Taxi Company Borough              100.000000\n",
       "Taxi Pick Up Location             100.000000\n",
       "Bridge Highway Name               100.000000\n",
       "Bridge Highway Direction          100.000000\n",
       "Road Ramp                         100.000000\n",
       "Bridge Highway Segment            100.000000\n",
       "Garage Lot Name                   100.000000\n",
       "Ferry Direction                   100.000000\n",
       "Ferry Terminal Name               100.000000\n",
       "Latitude                            0.692741\n",
       "Longitude                           0.692741\n",
       "Location                            0.692741\n",
       "dtype: float64"
      ]
     },
     "execution_count": 5,
     "metadata": {},
     "output_type": "execute_result"
    }
   ],
   "source": [
    "# Try out a missing data percentage list! \n",
    "missing_data_percents = df.isna().mean()*100\n",
    "missing_data_percents"
   ]
  },
  {
   "cell_type": "code",
   "execution_count": 6,
   "id": "51c62f02",
   "metadata": {},
   "outputs": [
    {
     "data": {
      "text/plain": [
       "<AxesSubplot:>"
      ]
     },
     "execution_count": 6,
     "metadata": {},
     "output_type": "execute_result"
    },
    {
     "data": {
      "image/png": "[encoded data removed]",
      "text/plain": [
       "<Figure size 640x480 with 1 Axes>"
      ]
     },
     "metadata": {},
     "output_type": "display_data"
    }
   ],
   "source": [
    "# Plot a missing data histogram\n",
    "missing_by_row = df.isna().sum(axis='columns')\n",
    "missing_by_row.hist(bins=50)"
   ]
  },
  {
   "cell_type": "markdown",
   "id": "5e791fbe",
   "metadata": {},
   "source": [
    "Now that you have tried all 3 techniques for detecting missing data, did you find any? Reading through the article, which solution do you think will help you clean the data set and handle the missing data? Try out your solution below!"
   ]
  },
  {
   "cell_type": "code",
   "execution_count": 7,
   "id": "53c2d34c",
   "metadata": {},
   "outputs": [
    {
     "name": "stdout",
     "output_type": "stream",
     "text": [
      "Index(['Intersection Street 1', 'Intersection Street 2', 'Landmark',\n",
      "       'Facility Type', 'School or Citywide Complaint', 'Vehicle Type',\n",
      "       'Taxi Company Borough', 'Taxi Pick Up Location', 'Bridge Highway Name',\n",
      "       'Bridge Highway Direction', 'Road Ramp', 'Bridge Highway Segment',\n",
      "       'Garage Lot Name', 'Ferry Direction', 'Ferry Terminal Name'],\n",
      "      dtype='object')\n",
      "(101914, 52)\n",
      "(101914, 37)\n"
     ]
    }
   ],
   "source": [
    "# Handle any missing data in your dataframe.\n",
    "# Drop all columns more than 90% null values\n",
    "df_above_90_percent_null = df[df.columns[(df.isna().mean()*100 >= 90)]]\n",
    "print(df_above_90_percent_null.columns)\n",
    "print(df.shape)\n",
    "df = df.drop(axis='column', columns=df_above_90_percent_null)\n",
    "print(df.shape)"
   ]
  },
  {
   "cell_type": "markdown",
   "id": "be2121df",
   "metadata": {},
   "source": [
    "## Irregular Data\n",
    "\n",
    "With missing data out of the way, turn your attention to any outliers. Just as we did for missing data, we first need to detect the outliers. The article outlines the top techniques for finding outliers in a dataset."
   ]
  },
  {
   "cell_type": "code",
   "execution_count": 8,
   "id": "3a4f2cff",
   "metadata": {},
   "outputs": [
    {
     "data": {
      "text/plain": [
       "<AxesSubplot:>"
      ]
     },
     "execution_count": 8,
     "metadata": {},
     "output_type": "execute_result"
    },
    {
     "data": {
      "image/png": "[encoded data removed]",
      "text/plain": [
       "<Figure size 640x480 with 1 Axes>"
      ]
     },
     "metadata": {},
     "output_type": "display_data"
    }
   ],
   "source": [
    "# Plot a histogram to see if there are any outliers.\n",
    "df['Latitude'].hist(bins=100)\n",
    "#plt.xticks(rotation=90)"
   ]
  },
  {
   "cell_type": "code",
   "execution_count": 9,
   "id": "ae9008bb",
   "metadata": {},
   "outputs": [
    {
     "data": {
      "text/plain": [
       "count    101208.000000\n",
       "mean         40.739304\n",
       "std           0.082224\n",
       "min          40.499502\n",
       "25%          40.679740\n",
       "50%          40.725009\n",
       "75%          40.815428\n",
       "max          40.912869\n",
       "Name: Latitude, dtype: float64"
      ]
     },
     "execution_count": 9,
     "metadata": {},
     "output_type": "execute_result"
    }
   ],
   "source": [
    "# Use the describe() method\n",
    "\n",
    "df[\"Latitude\"].describe()"
   ]
  },
  {
   "cell_type": "code",
   "execution_count": 18,
   "id": "4af44edf",
   "metadata": {},
   "outputs": [
    {
     "data": {
      "text/plain": [
       "<AxesSubplot:>"
      ]
     },
     "execution_count": 18,
     "metadata": {},
     "output_type": "execute_result"
    },
    {
     "data": {
      "image/png": "[encoded data removed]",
      "text/plain": [
       "<Figure size 640x480 with 1 Axes>"
      ]
     },
     "metadata": {},
     "output_type": "display_data"
    }
   ],
   "source": [
    "# Plot a bar chart\n",
    "df['Borough'].value_counts().plot(kind='bar')"
   ]
  },
  {
   "cell_type": "markdown",
   "id": "da8d6080",
   "metadata": {},
   "source": [
    "Which of the three techniques helped you find any outliers? Now that you have found outliers, what will you do to solve the problem?"
   ]
  },
  {
   "cell_type": "code",
   "execution_count": 19,
   "id": "3ee7d694",
   "metadata": {},
   "outputs": [],
   "source": [
    "# Handle any outliers in your dataframe"
   ]
  },
  {
   "cell_type": "markdown",
   "id": "c802522d",
   "metadata": {},
   "source": [
    "## Unnecessary Data\n",
    "\n",
    "Unnecessary data could be duplicates, irrelevant, or any uninformative data. Dive into each type of unnecessary data to see if there is any in the data set. Make sure to make note of how you would handle each type of unnecessary data."
   ]
  },
  {
   "cell_type": "code",
   "execution_count": 20,
   "id": "8de40f50",
   "metadata": {},
   "outputs": [
    {
     "data": {
      "text/html": [
       "<div>\n",
       "<style scoped>\n",
       "    .dataframe tbody tr th:only-of-type {\n",
       "        vertical-align: middle;\n",
       "    }\n",
       "\n",
       "    .dataframe tbody tr th {\n",
       "        vertical-align: top;\n",
       "    }\n",
       "\n",
       "    .dataframe thead th {\n",
       "        text-align: right;\n",
       "    }\n",
       "</style>\n",
       "<table border=\"1\" class=\"dataframe\">\n",
       "  <thead>\n",
       "    <tr style=\"text-align: right;\">\n",
       "      <th></th>\n",
       "      <th>Unique Key</th>\n",
       "      <th>Created Date</th>\n",
       "      <th>Location Type</th>\n",
       "      <th>Incident Zip</th>\n",
       "      <th>Borough</th>\n",
       "      <th>Latitude</th>\n",
       "      <th>Longitude</th>\n",
       "      <th>Location</th>\n",
       "    </tr>\n",
       "  </thead>\n",
       "  <tbody>\n",
       "    <tr>\n",
       "      <th>0</th>\n",
       "      <td>31464015</td>\n",
       "      <td>09/04/2015 12:00:00 AM</td>\n",
       "      <td>3+ family mixed use building</td>\n",
       "      <td>10006.0</td>\n",
       "      <td>MANHATTAN</td>\n",
       "      <td>40.707772</td>\n",
       "      <td>-74.012963</td>\n",
       "      <td>(40.70777155363643, -74.01296309970473)</td>\n",
       "    </tr>\n",
       "    <tr>\n",
       "      <th>1</th>\n",
       "      <td>31464024</td>\n",
       "      <td>09/04/2015 12:00:00 AM</td>\n",
       "      <td>commercial building</td>\n",
       "      <td>10306.0</td>\n",
       "      <td>STATEN ISLAND</td>\n",
       "      <td>40.575209</td>\n",
       "      <td>-74.104547</td>\n",
       "      <td>(40.575209242947444, -74.1045465185469)</td>\n",
       "    </tr>\n",
       "    <tr>\n",
       "      <th>2</th>\n",
       "      <td>31464025</td>\n",
       "      <td>09/04/2015 12:00:00 AM</td>\n",
       "      <td>1-2 family dwelling</td>\n",
       "      <td>10310.0</td>\n",
       "      <td>STATEN ISLAND</td>\n",
       "      <td>40.631236</td>\n",
       "      <td>-74.126878</td>\n",
       "      <td>(40.63123555151668, -74.12687759748677)</td>\n",
       "    </tr>\n",
       "    <tr>\n",
       "      <th>3</th>\n",
       "      <td>31464026</td>\n",
       "      <td>09/04/2015 12:00:00 AM</td>\n",
       "      <td>3+ family apt. building</td>\n",
       "      <td>11206.0</td>\n",
       "      <td>BROOKLYN</td>\n",
       "      <td>40.708987</td>\n",
       "      <td>-73.941207</td>\n",
       "      <td>(40.70898692345805, -73.94120690238431)</td>\n",
       "    </tr>\n",
       "    <tr>\n",
       "      <th>4</th>\n",
       "      <td>31464027</td>\n",
       "      <td>09/04/2015 12:00:00 AM</td>\n",
       "      <td>3+ family mixed use building</td>\n",
       "      <td>10462.0</td>\n",
       "      <td>BRONX</td>\n",
       "      <td>40.854130</td>\n",
       "      <td>-73.864813</td>\n",
       "      <td>(40.85413014360452, -73.86481331044513)</td>\n",
       "    </tr>\n",
       "  </tbody>\n",
       "</table>\n",
       "</div>"
      ],
      "text/plain": [
       "   Unique Key            Created Date                 Location Type  \\\n",
       "0    31464015  09/04/2015 12:00:00 AM  3+ family mixed use building   \n",
       "1    31464024  09/04/2015 12:00:00 AM           commercial building   \n",
       "2    31464025  09/04/2015 12:00:00 AM           1-2 family dwelling   \n",
       "3    31464026  09/04/2015 12:00:00 AM       3+ family apt. building   \n",
       "4    31464027  09/04/2015 12:00:00 AM  3+ family mixed use building   \n",
       "\n",
       "   Incident Zip        Borough   Latitude  Longitude  \\\n",
       "0       10006.0      MANHATTAN  40.707772 -74.012963   \n",
       "1       10306.0  STATEN ISLAND  40.575209 -74.104547   \n",
       "2       10310.0  STATEN ISLAND  40.631236 -74.126878   \n",
       "3       11206.0       BROOKLYN  40.708987 -73.941207   \n",
       "4       10462.0          BRONX  40.854130 -73.864813   \n",
       "\n",
       "                                  Location  \n",
       "0  (40.70777155363643, -74.01296309970473)  \n",
       "1  (40.575209242947444, -74.1045465185469)  \n",
       "2  (40.63123555151668, -74.12687759748677)  \n",
       "3  (40.70898692345805, -73.94120690238431)  \n",
       "4  (40.85413014360452, -73.86481331044513)  "
      ]
     },
     "execution_count": 20,
     "metadata": {},
     "output_type": "execute_result"
    }
   ],
   "source": [
    "# Look for any irrelevant data in the dataframe. How will you handle it?\n",
    "df.head()\n",
    "df = df[['Unique Key', 'Created Date', 'Location Type', 'Incident Zip', 'Borough', 'Latitude', 'Longitude', 'Location']]\n",
    "df.head()\n"
   ]
  },
  {
   "cell_type": "code",
   "execution_count": 21,
   "id": "888b49f1",
   "metadata": {},
   "outputs": [
    {
     "name": "stdout",
     "output_type": "stream",
     "text": [
      "(101914, 8)\n",
      "(101914, 8)\n"
     ]
    }
   ],
   "source": [
    "# Look for duplicates. How will you handle any duplicates?\n",
    "\n",
    "print(df.shape)\n",
    "df.drop_duplicates()\n",
    "print(df.shape)"
   ]
  },
  {
   "cell_type": "code",
   "execution_count": 14,
   "id": "cbd6ee14",
   "metadata": {},
   "outputs": [],
   "source": [
    "# Think about what data in the dataframe may be uninformative. Make note here of what situations may render data uninformative and how you would handle it?"
   ]
  },
  {
   "cell_type": "markdown",
   "id": "bdcad93a",
   "metadata": {},
   "source": [
    "## Inconsistent Data\n",
    "\n",
    "Inconsistent data is anything that messes with your model. This is likely due to inconsistent formatting and can be addressed by re-formatting all values in a column or row."
   ]
  },
  {
   "cell_type": "code",
   "execution_count": 24,
   "id": "4fc6bbb7",
   "metadata": {},
   "outputs": [
    {
     "data": {
      "text/html": [
       "<div>\n",
       "<style scoped>\n",
       "    .dataframe tbody tr th:only-of-type {\n",
       "        vertical-align: middle;\n",
       "    }\n",
       "\n",
       "    .dataframe tbody tr th {\n",
       "        vertical-align: top;\n",
       "    }\n",
       "\n",
       "    .dataframe thead th {\n",
       "        text-align: right;\n",
       "    }\n",
       "</style>\n",
       "<table border=\"1\" class=\"dataframe\">\n",
       "  <thead>\n",
       "    <tr style=\"text-align: right;\">\n",
       "      <th></th>\n",
       "      <th>Unique Key</th>\n",
       "      <th>Created Date</th>\n",
       "      <th>Location Type</th>\n",
       "      <th>Incident Zip</th>\n",
       "      <th>Borough</th>\n",
       "      <th>Latitude</th>\n",
       "      <th>Longitude</th>\n",
       "      <th>Location</th>\n",
       "    </tr>\n",
       "  </thead>\n",
       "  <tbody>\n",
       "    <tr>\n",
       "      <th>0</th>\n",
       "      <td>31464015</td>\n",
       "      <td>09/04/2015 12:00:00 AM</td>\n",
       "      <td>3+ family mixed use building</td>\n",
       "      <td>10006.0</td>\n",
       "      <td>manhattan</td>\n",
       "      <td>40.707772</td>\n",
       "      <td>-74.012963</td>\n",
       "      <td>(40.70777155363643, -74.01296309970473)</td>\n",
       "    </tr>\n",
       "    <tr>\n",
       "      <th>1</th>\n",
       "      <td>31464024</td>\n",
       "      <td>09/04/2015 12:00:00 AM</td>\n",
       "      <td>commercial building</td>\n",
       "      <td>10306.0</td>\n",
       "      <td>staten island</td>\n",
       "      <td>40.575209</td>\n",
       "      <td>-74.104547</td>\n",
       "      <td>(40.575209242947444, -74.1045465185469)</td>\n",
       "    </tr>\n",
       "    <tr>\n",
       "      <th>2</th>\n",
       "      <td>31464025</td>\n",
       "      <td>09/04/2015 12:00:00 AM</td>\n",
       "      <td>1-2 family dwelling</td>\n",
       "      <td>10310.0</td>\n",
       "      <td>staten island</td>\n",
       "      <td>40.631236</td>\n",
       "      <td>-74.126878</td>\n",
       "      <td>(40.63123555151668, -74.12687759748677)</td>\n",
       "    </tr>\n",
       "    <tr>\n",
       "      <th>3</th>\n",
       "      <td>31464026</td>\n",
       "      <td>09/04/2015 12:00:00 AM</td>\n",
       "      <td>3+ family apt. building</td>\n",
       "      <td>11206.0</td>\n",
       "      <td>brooklyn</td>\n",
       "      <td>40.708987</td>\n",
       "      <td>-73.941207</td>\n",
       "      <td>(40.70898692345805, -73.94120690238431)</td>\n",
       "    </tr>\n",
       "    <tr>\n",
       "      <th>4</th>\n",
       "      <td>31464027</td>\n",
       "      <td>09/04/2015 12:00:00 AM</td>\n",
       "      <td>3+ family mixed use building</td>\n",
       "      <td>10462.0</td>\n",
       "      <td>bronx</td>\n",
       "      <td>40.854130</td>\n",
       "      <td>-73.864813</td>\n",
       "      <td>(40.85413014360452, -73.86481331044513)</td>\n",
       "    </tr>\n",
       "  </tbody>\n",
       "</table>\n",
       "</div>"
      ],
      "text/plain": [
       "   Unique Key            Created Date                 Location Type  \\\n",
       "0    31464015  09/04/2015 12:00:00 AM  3+ family mixed use building   \n",
       "1    31464024  09/04/2015 12:00:00 AM           commercial building   \n",
       "2    31464025  09/04/2015 12:00:00 AM           1-2 family dwelling   \n",
       "3    31464026  09/04/2015 12:00:00 AM       3+ family apt. building   \n",
       "4    31464027  09/04/2015 12:00:00 AM  3+ family mixed use building   \n",
       "\n",
       "   Incident Zip        Borough   Latitude  Longitude  \\\n",
       "0       10006.0      manhattan  40.707772 -74.012963   \n",
       "1       10306.0  staten island  40.575209 -74.104547   \n",
       "2       10310.0  staten island  40.631236 -74.126878   \n",
       "3       11206.0       brooklyn  40.708987 -73.941207   \n",
       "4       10462.0          bronx  40.854130 -73.864813   \n",
       "\n",
       "                                  Location  \n",
       "0  (40.70777155363643, -74.01296309970473)  \n",
       "1  (40.575209242947444, -74.1045465185469)  \n",
       "2  (40.63123555151668, -74.12687759748677)  \n",
       "3  (40.70898692345805, -73.94120690238431)  \n",
       "4  (40.85413014360452, -73.86481331044513)  "
      ]
     },
     "execution_count": 24,
     "metadata": {},
     "output_type": "execute_result"
    }
   ],
   "source": [
    "# Try to convert all the strings in a column to lower or upper case. \n",
    "\n",
    "df['Borough'] = df['Borough'].str.lower()\n",
    "\n",
    "# str_cols = df.select_dtypes(exclude=['number']).columns\n",
    "# print(str_cols)\n",
    "\n",
    "# df[\"Location Type\"] = df[\"Location Type\"].str.lower()\n",
    "# df[\"Location Type\"].value_counts(dropna=False)\n",
    "df.head()\n"
   ]
  }
 ],
 "metadata": {
  "kernelspec": {
   "display_name": "Python 3 (ipykernel)",
   "language": "python",
   "name": "python3"
  },
  "language_info": {
   "codemirror_mode": {
    "name": "ipython",
    "version": 3
   },
   "file_extension": ".py",
   "mimetype": "text/x-python",
   "name": "python",
   "nbconvert_exporter": "python",
   "pygments_lexer": "ipython3",
   "version": "3.9.13"
  }
 },
 "nbformat": 4,
 "nbformat_minor": 5
}
